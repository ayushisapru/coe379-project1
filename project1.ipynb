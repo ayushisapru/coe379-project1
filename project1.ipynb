{
 "cells": [
  {
   "cell_type": "code",
   "execution_count": 168,
   "id": "439c04da-01a9-4ed3-8b79-89a413fbe023",
   "metadata": {},
   "outputs": [],
   "source": [
    "# Project 1 - Breast Cancer Analysis\n",
    "\n",
    "# COE 379L  \n",
    "# Ayushi Sapru / as98489"
   ]
  },
  {
   "cell_type": "code",
   "execution_count": 169,
   "id": "6edffeee-f1c6-4cd6-876c-ef1087f09d53",
   "metadata": {},
   "outputs": [],
   "source": [
    "# Part 1: Perform exploratory data analysis on the dataset. "
   ]
  },
  {
   "cell_type": "code",
   "execution_count": 18,
   "id": "12e44897-7ea4-491a-b808-7cd69dbb0ec5",
   "metadata": {},
   "outputs": [
    {
     "data": {
      "text/html": [
       "<div>\n",
       "<style scoped>\n",
       "    .dataframe tbody tr th:only-of-type {\n",
       "        vertical-align: middle;\n",
       "    }\n",
       "\n",
       "    .dataframe tbody tr th {\n",
       "        vertical-align: top;\n",
       "    }\n",
       "\n",
       "    .dataframe thead th {\n",
       "        text-align: right;\n",
       "    }\n",
       "</style>\n",
       "<table border=\"1\" class=\"dataframe\">\n",
       "  <thead>\n",
       "    <tr style=\"text-align: right;\">\n",
       "      <th></th>\n",
       "      <th>class</th>\n",
       "      <th>age</th>\n",
       "      <th>menopause</th>\n",
       "      <th>tumor-size</th>\n",
       "      <th>inv-nodes</th>\n",
       "      <th>node-caps</th>\n",
       "      <th>deg-malig</th>\n",
       "      <th>breast</th>\n",
       "      <th>breast-quad</th>\n",
       "      <th>irradiat</th>\n",
       "    </tr>\n",
       "  </thead>\n",
       "  <tbody>\n",
       "    <tr>\n",
       "      <th>0</th>\n",
       "      <td>recurrence-events</td>\n",
       "      <td>30-39</td>\n",
       "      <td>premeno</td>\n",
       "      <td>30-34</td>\n",
       "      <td>0-2</td>\n",
       "      <td>no</td>\n",
       "      <td>3</td>\n",
       "      <td>left</td>\n",
       "      <td>left_low</td>\n",
       "      <td>no</td>\n",
       "    </tr>\n",
       "    <tr>\n",
       "      <th>1</th>\n",
       "      <td>no-recurrence-events</td>\n",
       "      <td>40-49</td>\n",
       "      <td>premeno</td>\n",
       "      <td>20-24</td>\n",
       "      <td>0-2</td>\n",
       "      <td>no</td>\n",
       "      <td>2</td>\n",
       "      <td>right</td>\n",
       "      <td>right_up</td>\n",
       "      <td>no</td>\n",
       "    </tr>\n",
       "    <tr>\n",
       "      <th>2</th>\n",
       "      <td>recurrence-events</td>\n",
       "      <td>40-49</td>\n",
       "      <td>premeno</td>\n",
       "      <td>20-24</td>\n",
       "      <td>0-2</td>\n",
       "      <td>no</td>\n",
       "      <td>2</td>\n",
       "      <td>left</td>\n",
       "      <td>left_low</td>\n",
       "      <td>no</td>\n",
       "    </tr>\n",
       "    <tr>\n",
       "      <th>3</th>\n",
       "      <td>no-recurrence-events</td>\n",
       "      <td>60-69</td>\n",
       "      <td>ge40</td>\n",
       "      <td>15-19</td>\n",
       "      <td>0-2</td>\n",
       "      <td>no</td>\n",
       "      <td>2</td>\n",
       "      <td>right</td>\n",
       "      <td>left_up</td>\n",
       "      <td>no</td>\n",
       "    </tr>\n",
       "    <tr>\n",
       "      <th>4</th>\n",
       "      <td>no-recurrence-events</td>\n",
       "      <td>40-49</td>\n",
       "      <td>premeno</td>\n",
       "      <td>0-4</td>\n",
       "      <td>0-2</td>\n",
       "      <td>no</td>\n",
       "      <td>2</td>\n",
       "      <td>right</td>\n",
       "      <td>right_low</td>\n",
       "      <td>no</td>\n",
       "    </tr>\n",
       "  </tbody>\n",
       "</table>\n",
       "</div>"
      ],
      "text/plain": [
       "                  class    age menopause tumor-size inv-nodes node-caps  \\\n",
       "0     recurrence-events  30-39   premeno      30-34       0-2        no   \n",
       "1  no-recurrence-events  40-49   premeno      20-24       0-2        no   \n",
       "2     recurrence-events  40-49   premeno      20-24       0-2        no   \n",
       "3  no-recurrence-events  60-69      ge40      15-19       0-2        no   \n",
       "4  no-recurrence-events  40-49   premeno        0-4       0-2        no   \n",
       "\n",
       "   deg-malig breast breast-quad irradiat  \n",
       "0          3   left    left_low       no  \n",
       "1          2  right    right_up       no  \n",
       "2          2   left    left_low       no  \n",
       "3          2  right     left_up       no  \n",
       "4          2  right   right_low       no  "
      ]
     },
     "execution_count": 18,
     "metadata": {},
     "output_type": "execute_result"
    }
   ],
   "source": [
    "import pandas as pd\n",
    "df = pd.read_csv(\"project1.csv\")\n",
    "df.head()"
   ]
  },
  {
   "cell_type": "code",
   "execution_count": 19,
   "id": "5a33110b-519e-443a-980b-9fff3e1c11f0",
   "metadata": {},
   "outputs": [
    {
     "name": "stdout",
     "output_type": "stream",
     "text": [
      "Shape of dataset: (386, 10)\n",
      "Size of dataset: 3860\n"
     ]
    }
   ],
   "source": [
    "# Identify shape and size of the raw data. \n",
    "print(f\"Shape of dataset: {df.shape}\")\n",
    "print(f\"Size of dataset: {df.size}\") "
   ]
  },
  {
   "cell_type": "code",
   "execution_count": 20,
   "id": "802b74f7-ac32-46d3-938b-9b941e232d4b",
   "metadata": {},
   "outputs": [
    {
     "name": "stdout",
     "output_type": "stream",
     "text": [
      "<class 'pandas.core.frame.DataFrame'>\n",
      "RangeIndex: 386 entries, 0 to 385\n",
      "Data columns (total 10 columns):\n",
      " #   Column       Non-Null Count  Dtype \n",
      "---  ------       --------------  ----- \n",
      " 0   class        386 non-null    object\n",
      " 1   age          386 non-null    object\n",
      " 2   menopause    386 non-null    object\n",
      " 3   tumor-size   385 non-null    object\n",
      " 4   inv-nodes    385 non-null    object\n",
      " 5   node-caps    386 non-null    object\n",
      " 6   deg-malig    386 non-null    int64 \n",
      " 7   breast       386 non-null    object\n",
      " 8   breast-quad  386 non-null    object\n",
      " 9   irradiat     386 non-null    object\n",
      "dtypes: int64(1), object(9)\n",
      "memory usage: 30.3+ KB\n",
      "Number of duplicate rows: 11\n",
      "Duplicate rows removed.\n"
     ]
    }
   ],
   "source": [
    "# Get info about datatypes. Check for duplicate rows and treat them. \n",
    "df.info()\n",
    "duplicates = df.duplicated().sum()\n",
    "print(f\"Number of duplicate rows: {duplicates}\")\n",
    "\n",
    "if duplicates > 0:\n",
    "    df = df.drop_duplicates()\n",
    "    print(\"Duplicate rows removed.\")"
   ]
  },
  {
   "cell_type": "code",
   "execution_count": 21,
   "id": "5cddd97e-749b-4cc7-885e-b9cb08c37245",
   "metadata": {},
   "outputs": [
    {
     "name": "stdout",
     "output_type": "stream",
     "text": [
      "class          object\n",
      "age            object\n",
      "menopause      object\n",
      "tumor-size     object\n",
      "inv-nodes      object\n",
      "node-caps      object\n",
      "deg-malig       int64\n",
      "breast         object\n",
      "breast-quad    object\n",
      "irradiat       object\n",
      "dtype: object\n"
     ]
    }
   ],
   "source": [
    "# Check for datatype conversions. \n",
    "print(df.dtypes)"
   ]
  },
  {
   "cell_type": "code",
   "execution_count": 14,
   "id": "96165113-61ae-47a2-a048-3439b8bf4cdf",
   "metadata": {},
   "outputs": [],
   "source": [
    "# While checking the datatypes, we can see that all the variables, except for deg-malig, are saved as objects. deg-malig is of the int type. We will now perform an action to cast the values to 'category' for efficiency."
   ]
  },
  {
   "cell_type": "code",
   "execution_count": 22,
   "id": "3c381d85-f414-4e57-a50a-76b5c8515b8f",
   "metadata": {},
   "outputs": [
    {
     "name": "stdout",
     "output_type": "stream",
     "text": [
      "<class 'pandas.core.frame.DataFrame'>\n",
      "Index: 375 entries, 0 to 385\n",
      "Data columns (total 10 columns):\n",
      " #   Column       Non-Null Count  Dtype   \n",
      "---  ------       --------------  -----   \n",
      " 0   class        375 non-null    category\n",
      " 1   age          375 non-null    category\n",
      " 2   menopause    375 non-null    category\n",
      " 3   tumor-size   374 non-null    category\n",
      " 4   inv-nodes    374 non-null    category\n",
      " 5   node-caps    375 non-null    category\n",
      " 6   deg-malig    375 non-null    int64   \n",
      " 7   breast       375 non-null    category\n",
      " 8   breast-quad  375 non-null    category\n",
      " 9   irradiat     375 non-null    category\n",
      "dtypes: category(9), int64(1)\n",
      "memory usage: 11.1 KB\n"
     ]
    }
   ],
   "source": [
    "cat_cols = [\"class\", \"age\", \"menopause\", \"tumor-size\", \"inv-nodes\", \"node-caps\", \"breast\", \"breast-quad\", \"irradiat\"]\n",
    "df[cat_cols] = df[cat_cols].astype(\"category\")\n",
    "\n",
    "# Confirm the change of datatype. \n",
    "df.info()"
   ]
  },
  {
   "cell_type": "code",
   "execution_count": 26,
   "id": "50135aec-060f-4fda-becb-cb0e29850d80",
   "metadata": {},
   "outputs": [
    {
     "name": "stdout",
     "output_type": "stream",
     "text": [
      "Missing values in each column:\n",
      " class          0\n",
      "age            0\n",
      "menopause      0\n",
      "tumor-size     1\n",
      "inv-nodes      1\n",
      "node-caps      0\n",
      "deg-malig      0\n",
      "breast         0\n",
      "breast-quad    0\n",
      "irradiat       0\n",
      "dtype: int64\n"
     ]
    }
   ],
   "source": [
    "# We have successfully changed the types to 'category' so we can move on. \n",
    "# Identify missing data and/or invalid values and treat them with suitable mean, median, mode, or other methods.\n",
    "print(\"Missing values in each column:\\n\", df.isnull().sum())"
   ]
  },
  {
   "cell_type": "code",
   "execution_count": 38,
   "id": "bfd3f69a-5bad-46cd-8a66-e3707d1ae081",
   "metadata": {},
   "outputs": [
    {
     "name": "stdout",
     "output_type": "stream",
     "text": [
      "Missing values after replacement:\n",
      " class           0\n",
      "age             0\n",
      "menopause       0\n",
      "tumor-size      1\n",
      "inv-nodes       1\n",
      "node-caps      12\n",
      "deg-malig       0\n",
      "breast          0\n",
      "breast-quad     6\n",
      "irradiat        0\n",
      "dtype: int64\n"
     ]
    }
   ],
   "source": [
    "# Replace all the placeholders values (* and ?) with null.\n",
    "df.replace([\"?\", \"*\"], pd.NA, inplace = True)\n",
    "print(\"Missing values after replacement:\\n\", df.isnull().sum())"
   ]
  },
  {
   "cell_type": "code",
   "execution_count": 40,
   "id": "96586541-6eb8-47d2-9a98-dda6bb18ebbe",
   "metadata": {},
   "outputs": [
    {
     "name": "stdout",
     "output_type": "stream",
     "text": [
      "Missing values after filling:\n",
      " class          0\n",
      "age            0\n",
      "menopause      0\n",
      "tumor-size     0\n",
      "inv-nodes      0\n",
      "node-caps      0\n",
      "deg-malig      0\n",
      "breast         0\n",
      "breast-quad    0\n",
      "irradiat       0\n",
      "dtype: int64\n"
     ]
    }
   ],
   "source": [
    "# Now we will fill in the missing/null values using mode (most common value). We will use a lambda function to help. \n",
    "cols = df.select_dtypes(include=[\"category\", \"object\"]).columns\n",
    "df[cols] = df[cols].apply(lambda x: x.fillna(x.mode()[0]))\n",
    "\n",
    "print(\"Missing values after filling:\\n\", df.isnull().sum())"
   ]
  },
  {
   "cell_type": "code",
   "execution_count": 42,
   "id": "a4da50e1-d3be-4b0a-961d-01351d5c6eb7",
   "metadata": {},
   "outputs": [],
   "source": [
    "# Since we have treated the missing and invalid data values, we can move on to univariate analysis.\n",
    "import matplotlib.pyplot as plt\n",
    "import seaborn as sns"
   ]
  },
  {
   "cell_type": "code",
   "execution_count": 49,
   "id": "6397305d-8876-453d-9b7d-1cc27d9735a2",
   "metadata": {},
   "outputs": [],
   "source": [
    "# For the numerical columns, we can create and analyze a histogram. For the category columns, we can use bar graphs."
   ]
  },
  {
   "cell_type": "code",
   "execution_count": 89,
   "id": "b73bcaf8-ce1a-4fe8-ab05-12cbbb8bcb3a",
   "metadata": {},
   "outputs": [
    {
     "data": {
      "image/png": "[encoded data removed]",
      "text/plain": [
       "<Figure size 700x500 with 1 Axes>"
      ]
     },
     "metadata": {},
     "output_type": "display_data"
    }
   ],
   "source": [
    "num_cols = df.select_dtypes(include = [\"int64\"]).columns\n",
    "\n",
    "plt.figure(figsize = (7, 5))\n",
    "for i, col in enumerate(num_cols, 1):\n",
    "    plt.subplot(1, len(num_cols), i)\n",
    "    sns.histplot(df[col], bins = 7)\n",
    "    plt.title(f\"Histogram of Degree of Malignancy\")\n",
    "    plt.xlabel(col)\n",
    "    plt.ylabel(\"Count\")\n",
    "\n",
    "plt.tight_layout()\n",
    "plt.show()"
   ]
  },
  {
   "cell_type": "code",
   "execution_count": 60,
   "id": "c308dc3a-9254-4e3f-ba39-6bbd8ecfcc18",
   "metadata": {},
   "outputs": [],
   "source": [
    "# In the histogram above, we can see the distribution of the degree of malignancy across the dataset. It has 3 distinct values, and the highest frequency is observed at level 2. Next, we will see how the degree of malignancy compares to the size of the tumor. "
   ]
  },
  {
   "cell_type": "code",
   "execution_count": 62,
   "id": "52f0721a-3b60-4cd4-9c60-b6f694c1da6f",
   "metadata": {},
   "outputs": [
    {
     "name": "stderr",
     "output_type": "stream",
     "text": [
      "/tmp/ipykernel_87/44056145.py:3: FutureWarning: \n",
      "\n",
      "Passing `palette` without assigning `hue` is deprecated and will be removed in v0.14.0. Assign the `x` variable to `hue` and set `legend=False` for the same effect.\n",
      "\n",
      "  sns.countplot(x = 'class', data = df, palette = 'PiYG') # I asked ChatGPT to help me write this line and show me different Seaborn color palettes.\n"
     ]
    },
    {
     "data": {
      "image/png": "[encoded data removed]",
      "text/plain": [
       "<Figure size 600x400 with 1 Axes>"
      ]
     },
     "metadata": {},
     "output_type": "display_data"
    }
   ],
   "source": [
    "# Next, we will look into the recurrence of the cancer and how often it happens. \n",
    "plt.figure(figsize = (6,4))\n",
    "sns.countplot(x = 'class', data = df, palette = 'PiYG') # I asked ChatGPT to help me write this line and show me different Seaborn color palettes. I used the other palettes in the next few charts.\n",
    "plt.title(\"Distribution of Recurrence Events\")\n",
    "plt.xlabel(\"Recurrence Event\")\n",
    "plt.ylabel(\"Count\")\n",
    "plt.show()"
   ]
  },
  {
   "cell_type": "code",
   "execution_count": 59,
   "id": "b3ab12b5-63ec-4057-8e06-58c4a9e5f74b",
   "metadata": {},
   "outputs": [],
   "source": [
    "# In the above countplot, we are visualizing the distribution of recurrence events in the dataset. The \"No recurrence events\" category has a significantly higher count than the \"Recurrence events,\" indicating that most patients in the dataset did not experience cancer recurrence. This may suggest an imbalance, which can affect statistical analyses and predictive models."
   ]
  },
  {
   "cell_type": "code",
   "execution_count": 94,
   "id": "eb34759c-b60a-4beb-908e-3547f7e3cef0",
   "metadata": {},
   "outputs": [
    {
     "name": "stderr",
     "output_type": "stream",
     "text": [
      "/tmp/ipykernel_87/1816653182.py:3: FutureWarning: \n",
      "\n",
      "Passing `palette` without assigning `hue` is deprecated and will be removed in v0.14.0. Assign the `x` variable to `hue` and set `legend=False` for the same effect.\n",
      "\n",
      "  sns.countplot(x = 'breast-quad', data = df, order = df['breast-quad'].value_counts().index, palette = 'coolwarm')\n"
     ]
    },
    {
     "data": {
      "image/png": "[encoded data removed]",
      "text/plain": [
       "<Figure size 700x500 with 1 Axes>"
      ]
     },
     "metadata": {},
     "output_type": "display_data"
    }
   ],
   "source": [
    "# Now we will plot the distribution of tumor location.  \n",
    "plt.figure(figsize = (7, 5))\n",
    "sns.countplot(x = 'breast-quad', data = df, order = df['breast-quad'].value_counts().index, palette = 'coolwarm')\n",
    "plt.title(\"Distribution of Tumor Location in Breast Quadrants\")\n",
    "plt.xlabel(\"Breast Quadrant\")\n",
    "plt.ylabel(\"Count\")\n",
    "plt.show()"
   ]
  },
  {
   "cell_type": "code",
   "execution_count": 79,
   "id": "2fd58b05-34b2-4db9-a881-ad79dccd6757",
   "metadata": {},
   "outputs": [],
   "source": [
    "# Based on the plot, we can see that most tumors are located in the left quadrants, specifically the lower left side. Right quadrants have lower occurrences, and central has the least amount. This distribution could indicate to some sort of biological factors that contribute to tumor occurrences, speciffically in the left quadrants. "
   ]
  },
  {
   "cell_type": "code",
   "execution_count": 109,
   "id": "5b1260c6-67fe-4546-9ea3-12cc95d03750",
   "metadata": {},
   "outputs": [
    {
     "name": "stderr",
     "output_type": "stream",
     "text": [
      "/tmp/ipykernel_87/3857571200.py:6: FutureWarning: \n",
      "\n",
      "Passing `palette` without assigning `hue` is deprecated and will be removed in v0.14.0. Assign the `y` variable to `hue` and set `legend=False` for the same effect.\n",
      "\n",
      "  sns.countplot(y = df[\"tumor-size\"], order = size_order, palette = \"cubehelix\")\n"
     ]
    },
    {
     "data": {
      "image/png": "[encoded data removed]",
      "text/plain": [
       "<Figure size 800x500 with 1 Axes>"
      ]
     },
     "metadata": {},
     "output_type": "display_data"
    }
   ],
   "source": [
    "# Lastly, we will look at tumor size in a countplot. \n",
    "\n",
    "size_order = ['55-59', '50-54', '45-49', '40-44', '35-39', '30-34', '25-29', '20-24', '15-19', '10-14', '5-9', '0-4']\n",
    "\n",
    "plt.figure(figsize = (8, 5))\n",
    "sns.countplot(y = df[\"tumor-size\"], order = size_order, palette = \"cubehelix\")\n",
    "plt.title(\"Distribution of Tumor Size\")\n",
    "plt.xlabel(\"Count\")\n",
    "plt.ylabel(\"Tumor Size\")\n",
    "plt.show()\n"
   ]
  },
  {
   "cell_type": "code",
   "execution_count": 104,
   "id": "317c156b-66d9-410e-97d7-4107721bd26d",
   "metadata": {},
   "outputs": [],
   "source": [
    "# Tumors between 30-34mm are the most frequent, followed by 25-29mm and 20-24mm. Larger tumors are relatively more rare, and most cases are diagnosed at moderate sizes. This suggests that the early detection efforts may be effective in preventing the growth of larger tumors. "
   ]
  },
  {
   "cell_type": "code",
   "execution_count": 106,
   "id": "13bf0dfb-b765-4074-96e2-7587981947ac",
   "metadata": {},
   "outputs": [],
   "source": [
    "# Now that we have completed some univariate analyses and discussed the observations, we can move on to performing one-hot encoding on categorical variables."
   ]
  },
  {
   "cell_type": "code",
   "execution_count": 115,
   "id": "f76cdddf-038b-4017-bbea-ba5853f3cbef",
   "metadata": {},
   "outputs": [
    {
     "name": "stdout",
     "output_type": "stream",
     "text": [
      "<class 'pandas.core.frame.DataFrame'>\n",
      "Index: 375 entries, 0 to 385\n",
      "Data columns (total 33 columns):\n",
      " #   Column                   Non-Null Count  Dtype\n",
      "---  ------                   --------------  -----\n",
      " 0   deg-malig                375 non-null    int64\n",
      " 1   class_recurrence-events  375 non-null    bool \n",
      " 2   age_30-39                375 non-null    bool \n",
      " 3   age_40-49                375 non-null    bool \n",
      " 4   age_50-59                375 non-null    bool \n",
      " 5   age_60-69                375 non-null    bool \n",
      " 6   age_70-79                375 non-null    bool \n",
      " 7   menopause_lt40           375 non-null    bool \n",
      " 8   menopause_premeno        375 non-null    bool \n",
      " 9   tumor-size_5-9           375 non-null    bool \n",
      " 10  tumor-size_10-14         375 non-null    bool \n",
      " 11  tumor-size_15-19         375 non-null    bool \n",
      " 12  tumor-size_20-24         375 non-null    bool \n",
      " 13  tumor-size_25-29         375 non-null    bool \n",
      " 14  tumor-size_30-34         375 non-null    bool \n",
      " 15  tumor-size_35-39         375 non-null    bool \n",
      " 16  tumor-size_40-44         375 non-null    bool \n",
      " 17  tumor-size_45-49         375 non-null    bool \n",
      " 18  tumor-size_50-54         375 non-null    bool \n",
      " 19  tumor-size_55-59         375 non-null    bool \n",
      " 20  inv-nodes_12-14          375 non-null    bool \n",
      " 21  inv-nodes_15-17          375 non-null    bool \n",
      " 22  inv-nodes_24-26          375 non-null    bool \n",
      " 23  inv-nodes_3-5            375 non-null    bool \n",
      " 24  inv-nodes_6-8            375 non-null    bool \n",
      " 25  inv-nodes_9-11           375 non-null    bool \n",
      " 26  node-caps_yes            375 non-null    bool \n",
      " 27  breast_right             375 non-null    bool \n",
      " 28  breast-quad_left_low     375 non-null    bool \n",
      " 29  breast-quad_left_up      375 non-null    bool \n",
      " 30  breast-quad_right_low    375 non-null    bool \n",
      " 31  breast-quad_right_up     375 non-null    bool \n",
      " 32  irradiat_yes             375 non-null    bool \n",
      "dtypes: bool(32), int64(1)\n",
      "memory usage: 25.7 KB\n"
     ]
    }
   ],
   "source": [
    "# Perform one-hot encoding on categorical variables. \n",
    "df = pd.get_dummies(df, columns = df.select_dtypes(include = [\"category\"]).columns, drop_first = True)\n",
    "\n",
    "# Display info() of the new dataset to confirm. \n",
    "df.info()"
   ]
  },
  {
   "cell_type": "code",
   "execution_count": 116,
   "id": "97348cd0-93cf-421f-81e6-938ccbffbfdd",
   "metadata": {},
   "outputs": [],
   "source": [
    "# Part 2: Fit classification models on the data to predict the recurrence class. "
   ]
  },
  {
   "cell_type": "code",
   "execution_count": 119,
   "id": "2fa9a03f-65bc-4616-a1fa-eacea0f09997",
   "metadata": {},
   "outputs": [],
   "source": [
    "# Split the data into training and test datasets. \n",
    "\n",
    "from sklearn.model_selection import train_test_split"
   ]
  },
  {
   "cell_type": "code",
   "execution_count": 120,
   "id": "24041822-e1be-47fc-8982-09c13e149404",
   "metadata": {},
   "outputs": [
    {
     "name": "stdout",
     "output_type": "stream",
     "text": [
      "Index(['deg-malig', 'class_recurrence-events', 'age_30-39', 'age_40-49',\n",
      "       'age_50-59', 'age_60-69', 'age_70-79', 'menopause_lt40',\n",
      "       'menopause_premeno', 'tumor-size_5-9', 'tumor-size_10-14',\n",
      "       'tumor-size_15-19', 'tumor-size_20-24', 'tumor-size_25-29',\n",
      "       'tumor-size_30-34', 'tumor-size_35-39', 'tumor-size_40-44',\n",
      "       'tumor-size_45-49', 'tumor-size_50-54', 'tumor-size_55-59',\n",
      "       'inv-nodes_12-14', 'inv-nodes_15-17', 'inv-nodes_24-26',\n",
      "       'inv-nodes_3-5', 'inv-nodes_6-8', 'inv-nodes_9-11', 'node-caps_yes',\n",
      "       'breast_right', 'breast-quad_left_low', 'breast-quad_left_up',\n",
      "       'breast-quad_right_low', 'breast-quad_right_up', 'irradiat_yes'],\n",
      "      dtype='object')\n"
     ]
    }
   ],
   "source": [
    "print(df.columns)"
   ]
  },
  {
   "cell_type": "code",
   "execution_count": 124,
   "id": "9a65b7ae-0af8-4c69-a5fc-4b9084692b11",
   "metadata": {},
   "outputs": [
    {
     "name": "stdout",
     "output_type": "stream",
     "text": [
      "Training set size: (300, 32), Target: (300,)\n",
      "Test set size: (75, 32), Target: (75,)\n"
     ]
    }
   ],
   "source": [
    "X = df.drop(columns = [\"class_recurrence-events\"])\n",
    "y = df[\"class_recurrence-events\"]\n",
    "\n",
    "# Perform train/test split\n",
    "X_train, X_test, y_train, y_test = train_test_split(X, y, test_size = 0.2, random_state = 1, stratify = y)\n",
    "\n",
    "# Verify the split\n",
    "print(f\"Training set size: {X_train.shape}, Target: {y_train.shape}\")\n",
    "print(f\"Test set size: {X_test.shape}, Target: {y_test.shape}\")\n",
    "\n",
    "# y_train and y_test's shapes are 1-dimensional"
   ]
  },
  {
   "cell_type": "code",
   "execution_count": 135,
   "id": "521f1170-bbed-401a-8a3c-c2b81e6cf6e3",
   "metadata": {},
   "outputs": [
    {
     "name": "stdout",
     "output_type": "stream",
     "text": [
      "KNN Classifier Accuracy: 0.6933\n",
      "\n",
      "Classification Report:\n",
      "               precision    recall  f1-score   support\n",
      "\n",
      "       False       0.73      0.86      0.79        51\n",
      "        True       0.53      0.33      0.41        24\n",
      "\n",
      "    accuracy                           0.69        75\n",
      "   macro avg       0.63      0.60      0.60        75\n",
      "weighted avg       0.67      0.69      0.67        75\n",
      "\n"
     ]
    }
   ],
   "source": [
    "# We can now build perform classification using K-Nearest Neighbor Classifier.  \n",
    "\n",
    "from sklearn.neighbors import KNeighborsClassifier\n",
    "from sklearn.metrics import accuracy_score, classification_report\n",
    "\n",
    "knn = KNeighborsClassifier(n_neighbors = 5)\n",
    "\n",
    "# Train the model on the training data.\n",
    "knn.fit(X_train, y_train)\n",
    "\n",
    "# Make predictions on test set.\n",
    "y_pred_knn = knn.predict(X_test)\n",
    "\n",
    "# Evaluate the model's accuracy. \n",
    "accuracy_knn = accuracy_score(y_test, y_pred_knn)\n",
    "print(f\"KNN Classifier Accuracy: {accuracy_knn:.4f}\")\n",
    "\n",
    "# Show classification report.\n",
    "print(\"\\nClassification Report:\\n\", classification_report(y_test, y_pred_knn))"
   ]
  },
  {
   "cell_type": "code",
   "execution_count": 133,
   "id": "7e6fb2ec-c060-4b39-8421-8a4176fa05de",
   "metadata": {},
   "outputs": [],
   "source": [
    "# The KNN classifier received an overall accuracy of 69.33% on the test set. The precision for the \"True\" class had a recall of 0.33, which indicates that the model was not able to correctly classify recurrence cases."
   ]
  },
  {
   "cell_type": "code",
   "execution_count": 136,
   "id": "155d0a1b-c1e5-4254-8f02-79ef9bb19bb7",
   "metadata": {},
   "outputs": [],
   "source": [
    "# Next, we will perform classification with K-Nearest Neighbor Classifier using Grid Search CV. "
   ]
  },
  {
   "cell_type": "code",
   "execution_count": 154,
   "id": "af41989b-d1f8-4193-acd2-56141b036330",
   "metadata": {},
   "outputs": [
    {
     "name": "stdout",
     "output_type": "stream",
     "text": [
      "Optimal k: 17\n"
     ]
    }
   ],
   "source": [
    "from sklearn.neighbors import KNeighborsClassifier\n",
    "from sklearn.model_selection import GridSearchCV\n",
    "\n",
    "knn_search_accuracy = KNeighborsClassifier()\n",
    "\n",
    "param_grid = {\"n_neighbors\": np.arange(1, 20)}\n",
    "\n",
    "knn = KNeighborsClassifier()\n",
    "\n",
    "knn_gscv = GridSearchCV(knn, param_grid, cv = 5, scoring = \"accuracy\", n_jobs = -1)\n",
    "\n",
    "knn_gscv.fit(X_train, y_train)\n",
    "\n",
    "best_k = knn_gscv.best_params_[\"n_neighbors\"]\n",
    "best_score = knn_gscv.best_score_\n",
    "\n",
    "print(f\"Optimal k: {best_k}\")"
   ]
  },
  {
   "cell_type": "code",
   "execution_count": 157,
   "id": "4bbdbfcf-ded9-4d42-9bdb-ab48dec332e1",
   "metadata": {},
   "outputs": [
    {
     "name": "stdout",
     "output_type": "stream",
     "text": [
      "KNN Classifier with Grid Search CV Accuracy: 0.7200\n",
      "\n",
      "Classification Report:\n",
      "               precision    recall  f1-score   support\n",
      "\n",
      "       False       0.71      0.98      0.83        51\n",
      "        True       0.80      0.17      0.28        24\n",
      "\n",
      "    accuracy                           0.72        75\n",
      "   macro avg       0.76      0.57      0.55        75\n",
      "weighted avg       0.74      0.72      0.65        75\n",
      "\n"
     ]
    }
   ],
   "source": [
    "knn_best = KNeighborsClassifier(n_neighbors=best_k)\n",
    "knn_best.fit(X_train, y_train)\n",
    "\n",
    "y_pred_knn_best = knn_best.predict(X_test)\n",
    "\n",
    "accuracy_knn_best = accuracy_score(y_test, y_pred_knn_best)\n",
    "print(f\"KNN Classifier with Grid Search CV Accuracy: {accuracy_knn_best:.4f}\")\n",
    "print(\"\\nClassification Report:\\n\", classification_report(y_test, y_pred_knn_best))"
   ]
  },
  {
   "cell_type": "code",
   "execution_count": 159,
   "id": "501f1bd5-c946-43c4-9cc0-25f55c204bc8",
   "metadata": {},
   "outputs": [
    {
     "data": {
      "text/plain": [
       "{'n_neighbors': 3}"
      ]
     },
     "execution_count": 159,
     "metadata": {},
     "output_type": "execute_result"
    }
   ],
   "source": [
    "# Now we will focus on recall. \n",
    "knn_gscv_recall = GridSearchCV(knn_search_accuracy, param_grid, cv = 5, scoring = 'recall')\n",
    "\n",
    "knn_gscv_recall.fit(X_train, y_train)\n",
    "knn_recall = knn_gscv_recall.best_estimator_\n",
    "knn_gscv_recall.best_params_"
   ]
  },
  {
   "cell_type": "code",
   "execution_count": 160,
   "id": "8fa7af3b-12c6-4148-b0fa-c81842d2db59",
   "metadata": {},
   "outputs": [
    {
     "name": "stdout",
     "output_type": "stream",
     "text": [
      "              precision    recall  f1-score   support\n",
      "\n",
      "       False       0.77      0.84      0.80        51\n",
      "        True       0.58      0.46      0.51        24\n",
      "\n",
      "    accuracy                           0.72        75\n",
      "   macro avg       0.67      0.65      0.66        75\n",
      "weighted avg       0.71      0.72      0.71        75\n",
      "\n"
     ]
    }
   ],
   "source": [
    "y_pred_knn_recall = knn_recall.predict(X_test)\n",
    "print(classification_report(y_test, y_pred_knn_recall))"
   ]
  },
  {
   "cell_type": "code",
   "execution_count": 161,
   "id": "3e4dc354-9730-48ce-9191-68e0ea96cd0e",
   "metadata": {},
   "outputs": [],
   "source": [
    "# Lastly, we will be performing classification using Linear Classification."
   ]
  },
  {
   "cell_type": "code",
   "execution_count": 167,
   "id": "ba8c25c9-f78f-4f1c-a1bf-3c3a5052cff9",
   "metadata": {},
   "outputs": [
    {
     "name": "stdout",
     "output_type": "stream",
     "text": [
      "Logistic Regression Accuracy: 0.7067\n",
      "\n",
      "Classification Report:\n",
      "               precision    recall  f1-score   support\n",
      "\n",
      "       False       0.71      0.96      0.82        51\n",
      "        True       0.67      0.17      0.27        24\n",
      "\n",
      "    accuracy                           0.71        75\n",
      "   macro avg       0.69      0.56      0.54        75\n",
      "weighted avg       0.70      0.71      0.64        75\n",
      "\n"
     ]
    }
   ],
   "source": [
    "from sklearn.linear_model import LogisticRegression\n",
    "\n",
    "log_reg = LogisticRegression(max_iter = 1000, random_state = 1)\n",
    "\n",
    "log_reg.fit(X_train, y_train)\n",
    "y_pred_log = log_reg.predict(X_test)\n",
    "\n",
    "accuracy_log = accuracy_score(y_test, y_pred_log)\n",
    "print(f\"Logistic Regression Accuracy: {accuracy_log:.4f}\")\n",
    "\n",
    "print(\"\\nClassification Report:\\n\", classification_report(y_test, y_pred_log))"
   ]
  },
  {
   "cell_type": "code",
   "execution_count": 170,
   "id": "16f0254c-5d5f-432b-8a3f-f9208fee11ed",
   "metadata": {},
   "outputs": [],
   "source": [
    "# Display report showing accuracy, recall, precision, and f1-score for each classification model. Which metric is most important for this problem?"
   ]
  },
  {
   "cell_type": "code",
   "execution_count": 179,
   "id": "d7a0d26c-3172-4302-b097-f3f185100268",
   "metadata": {},
   "outputs": [
    {
     "name": "stdout",
     "output_type": "stream",
     "text": [
      "\n",
      "Classification Model Performance Summary:\n",
      "\n",
      "                      Model  Accuracy  Precision (True)  Recall (True)  F1-Score (True)\n",
      "                        KNN  0.693333          0.000000       0.000000         0.000000\n",
      "Optimized KNN (Grid Search)  0.720000          0.800000       0.166667         0.275862\n",
      "      Linear Classification  0.706667          0.666667       0.166667         0.266667\n"
     ]
    }
   ],
   "source": [
    "def extract_metrics(y_true, y_pred):\n",
    "    report = classification_report(y_true, y_pred, output_dict=True, zero_division=0)\n",
    "    return report['True']['precision'], report['True']['recall'], report['True']['f1-score']\n",
    "\n",
    "performance_summary = pd.DataFrame({\n",
    "    \"Model\": [\n",
    "        \"KNN\", \n",
    "        \"Optimized KNN (Grid Search)\", \n",
    "        \"Linear Classification\"\n",
    "    ],\n",
    "    \"Accuracy\": [accuracy_knn, accuracy_knn_best, accuracy_log],\n",
    "    \"Precision (True)\": [\n",
    "        extract_metrics(y_test, y_pred_knn)[0],\n",
    "        extract_metrics(y_test, y_pred_knn_best)[0],\n",
    "        extract_metrics(y_test, y_pred_log)[0]\n",
    "    ],\n",
    "    \"Recall (True)\": [\n",
    "        extract_metrics(y_test, y_pred_knn)[1],\n",
    "        extract_metrics(y_test, y_pred_knn_best)[1],\n",
    "        extract_metrics(y_test, y_pred_log)[1]\n",
    "    ],\n",
    "    \"F1-Score (True)\": [\n",
    "        extract_metrics(y_test, y_pred_knn)[2],\n",
    "        extract_metrics(y_test, y_pred_knn_best)[2],\n",
    "        extract_metrics(y_test, y_pred_log)[2]\n",
    "    ]\n",
    "})\n",
    "\n",
    "print(\"\\nClassification Model Performance Summary:\\n\")\n",
    "print(performance_summary.to_string(index=False))"
   ]
  },
  {
   "cell_type": "code",
   "execution_count": 180,
   "id": "e1313b06-f2b0-4bf6-8c15-97aff340626a",
   "metadata": {},
   "outputs": [],
   "source": [
    "# As displayed in the table above, Optimized KNN (Grid Search) is the best model for this case because it has the highest accuracy, precision, and F1-score. Recall was the most important metric because false negatives was an issue. "
   ]
  }
 ],
 "metadata": {
  "kernelspec": {
   "display_name": "Python 3 (ipykernel)",
   "language": "python",
   "name": "python3"
  },
  "language_info": {
   "codemirror_mode": {
    "name": "ipython",
    "version": 3
   },
   "file_extension": ".py",
   "mimetype": "text/x-python",
   "name": "python",
   "nbconvert_exporter": "python",
   "pygments_lexer": "ipython3",
   "version": "3.11.1"
  }
 },
 "nbformat": 4,
 "nbformat_minor": 5
}
